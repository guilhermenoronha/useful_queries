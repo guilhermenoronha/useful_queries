{
 "cells": [
  {
   "cell_type": "markdown",
   "id": "b0da11a2-4073-4fb4-9753-9dad60526c08",
   "metadata": {
    "tags": []
   },
   "source": [
    "## GET RELEVANT DATA FOR DATA QUALITY CONTROL"
   ]
  },
  {
   "cell_type": "markdown",
   "id": "1b84fbf4-07ff-4f41-a43e-74bab98ff2e1",
   "metadata": {
    "tags": []
   },
   "source": [
    "``` sql\n",
    "SELECT\n",
    "    creation_time,\n",
    "    table_id,\n",
    "    user_email,\n",
    "    job_type,\n",
    "    statement_type,\n",
    "    start_time,\n",
    "    end_time,\n",
    "    query,\n",
    "    total_bytes_processed,\n",
    "    total_bytes_billed,\n",
    "    total_slot_ms\n",
    "FROM\n",
    "`region-us`.INFORMATION_SCHEMA.JOBS as J,\n",
    "UNNEST(referenced_tables) AS RT\n",
    "WHERE RT.dataset_id in ('') -- REPLACE IT WITH THE LIST OF THE DATASETS FOR YOUR PROJECT\n",
    "    AND J.project_id = '' -- REPLACE IT WITH THE NAME OF YOUT PROJECT\n",
    "    AND J.state = 'DONE'\n",
    "```"
   ]
  },
  {
   "cell_type": "markdown",
   "id": "8d0329a0-55ec-4abf-8875-9e03e40dbaba",
   "metadata": {},
   "source": [
    "## GET THE LIST OF ALL THE TABLES WITHIN YOUR PROJECT"
   ]
  },
  {
   "cell_type": "markdown",
   "id": "95f1dc63-24b0-4f30-a4d5-6db3ae11edc9",
   "metadata": {},
   "source": [
    "```sql\n",
    "SELECT\n",
    "    table_name\n",
    "FROM YOUR_PROJECT.YOUR_DATASET.INFORMATION_SCHEMA.TABLES -- Replace YOUR_PROJECT and YOUR_DATASET for the correspondent names for your project. \n",
    "```"
   ]
  },
  {
   "cell_type": "markdown",
   "id": "d918119e-ca63-4af4-a7a9-ae59bd03b83f",
   "metadata": {
    "tags": []
   },
   "source": [
    "## TRUNCATE ALL TABLES FOR A SPECIFIC DATASET"
   ]
  },
  {
   "cell_type": "markdown",
   "id": "bcf3fd0a-7ffa-4037-b3b6-5343177b9cfa",
   "metadata": {},
   "source": [
    "```sql\n",
    "DECLARE TABLE_NAME STRING;\n",
    "DECLARE TABLE_SIZE INT64;\n",
    "DECLARE X INT64 DEFAULT 0;\n",
    "DECLARE STATEMENTS ARRAY<STRING>;\n",
    "\n",
    "SET STATEMENTS = (\n",
    "SELECT \n",
    "    ARRAY_AGG(CONCAT('TRUNCATE TABLE `', table_schema, '.', table_name, '`;'))\n",
    "FROM YOUR_PROJECT.YOUR_DATASET.INFORMATION_SCHEMA.TABLES -- REPLACE BOTH YOUR_PROJECT AND YOUR_DATASET WITH THE CORRESPONDENT NAMES FOR YOUR PROJECT\n",
    "WHERE table_type = 'BASE TABLE'\n",
    "    AND table_schema = '' -- REPLACE IT WITH THE DATASET OF YOUR PROJECT\n",
    ");\n",
    "\n",
    "SET table_size = array_length(statements);\n",
    "\n",
    "LOOP\n",
    "SET X = X + 1;\n",
    "IF x > table_size THEN\n",
    "    LEAVE;\n",
    "END IF;\n",
    "EXECUTE IMMEDIATE STATEMENTS[ORDINAL(X)];\n",
    "END LOOP;  \n",
    "```"
   ]
  },
  {
   "cell_type": "markdown",
   "id": "b0febfa4-ecfb-4054-ae72-2cef85baac34",
   "metadata": {},
   "source": [
    "### CHECKING DATA SWAMPIFICATION TABLES"
   ]
  },
  {
   "cell_type": "markdown",
   "id": "635901ae",
   "metadata": {},
   "source": [
    "```sql\n",
    "SELECT  \n",
    "    DISTINCT table_id -- REPLACE WITH A COLUMN WHICH HAS THE TABLE NAME DATA\n",
    "FROM YOUR_PROJECT.YOUR_DATASET.INFORMATION_SCHEMA.TABLES -- REPLACE BOTH YOUR_PROJECT AND YOUR_DATASET WITH THE CORRESPONDENT NAMES FOR YOUR PROJECT\n",
    "WHERE creation_time > TIMESTAMP_SUB(CURRENT_TIMESTAMP() , INTERVAL 30 DAY) -- SHIFT TO A SUITABLE INTERVAL\n",
    "EXCEPT DISTINCT\n",
    "SELECT \n",
    "    DISTINCT table_id -- REPLACE WITH A COLUMN WHICH HAS THE TABLE NAME DATA\n",
    "FROM YOUR_PROJECT.YOUR_DATASET.INFORMATION_SCHEMA.TABLES -- REPLACE BOTH YOUR_PROJECT AND YOUR_DATASET WITH THE CORRESPONDENT NAMES FOR YOUR PROJECT\n",
    "WHERE creation_time > TIMESTAMP_SUB(CURRENT_TIMESTAMP() , INTERVAL 30 DAY) -- SHIFT TO A SUITABLE INTERVAL\n",
    "```"
   ]
  }
 ],
 "metadata": {
  "kernelspec": {
   "display_name": "Python 3 (ipykernel)",
   "language": "python",
   "name": "python3"
  },
  "language_info": {
   "codemirror_mode": {
    "name": "ipython",
    "version": 3
   },
   "file_extension": ".py",
   "mimetype": "text/x-python",
   "name": "python",
   "nbconvert_exporter": "python",
   "pygments_lexer": "ipython3",
   "version": "3.11.2"
  }
 },
 "nbformat": 4,
 "nbformat_minor": 5
}
